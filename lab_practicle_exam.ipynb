{
  "nbformat": 4,
  "nbformat_minor": 0,
  "metadata": {
    "colab": {
      "provenance": [],
      "authorship_tag": "ABX9TyMbpYdNF+EC9gIYRpV/NkuY",
      "include_colab_link": true
    },
    "kernelspec": {
      "name": "python3",
      "display_name": "Python 3"
    },
    "language_info": {
      "name": "python"
    }
  },
  "cells": [
    {
      "cell_type": "markdown",
      "metadata": {
        "id": "view-in-github",
        "colab_type": "text"
      },
      "source": [
        "<a href=\"https://colab.research.google.com/github/tahreem636/LabPracticleExam/blob/main/lab_practicle_exam.ipynb\" target=\"_parent\"><img src=\"https://colab.research.google.com/assets/colab-badge.svg\" alt=\"Open In Colab\"/></a>"
      ]
    },
    {
      "cell_type": "code",
      "source": [
        "def dfs_maze_solver(maze, start, goal):\n",
        "    rows, cols = len(maze), len(maze[0])\n",
        "\n",
        "\n",
        "    visited = set()\n",
        "\n",
        "\n",
        "    path = []\n",
        "\n",
        "\n",
        "    def dfs(x, y):\n",
        "\n",
        "        if (x, y) == goal:\n",
        "            path.append((x, y))\n",
        "            return True\n",
        "\n",
        "\n",
        "        if x < 0 or x >= rows or y < 0 or y >= cols or maze[x][y] == 1 or (x, y) in visited:\n",
        "            return False\n",
        "\n",
        "        visited.add((x, y))\n",
        "        path.append((x, y))\n",
        "\n",
        "\n",
        "        if (dfs(x - 1, y) or\n",
        "            dfs(x + 1, y) or\n",
        "            dfs(x, y - 1) or\n",
        "            dfs(x, y + 1)):\n",
        "            return True\n",
        "\n",
        "\n",
        "        path.pop()\n",
        "        return False\n",
        "\n",
        "\n",
        "    if dfs(start[0], start[1]):\n",
        "        print(\"Path found:\", path)\n",
        "        return path\n",
        "    else:\n",
        "        print(\"No path found\")\n",
        "        return None\n",
        "\n",
        "\n",
        "maze = [\n",
        "    [0, 1, 0, 0, 0],\n",
        "    [0, 1, 0, 1, 0],\n",
        "    [0, 0, 0, 1, 0],\n",
        "    [0, 1, 1, 1, 0],\n",
        "    [0, 0, 0, 0, 0]\n",
        "]\n",
        "\n",
        "start = (0, 0)\n",
        "goal = (4, 4)\n",
        "\n",
        "dfs_maze_solver(maze, start, goal)\n"
      ],
      "metadata": {
        "colab": {
          "base_uri": "https://localhost:8080/"
        },
        "id": "2rXhL_AgzXl-",
        "outputId": "7411346d-ba5d-4ab2-fc20-89dabf98c43c"
      },
      "execution_count": 1,
      "outputs": [
        {
          "output_type": "stream",
          "name": "stdout",
          "text": [
            "Path found: [(0, 0), (1, 0), (2, 0), (3, 0), (4, 0), (4, 1), (4, 2), (4, 3), (4, 4)]\n"
          ]
        },
        {
          "output_type": "execute_result",
          "data": {
            "text/plain": [
              "[(0, 0), (1, 0), (2, 0), (3, 0), (4, 0), (4, 1), (4, 2), (4, 3), (4, 4)]"
            ]
          },
          "metadata": {},
          "execution_count": 1
        }
      ]
    },
    {
      "cell_type": "code",
      "source": [
        "from queue import PriorityQueue\n",
        "\n",
        "\n",
        "graph = {\n",
        "    'A': [('B', 12), ('C', 3)],\n",
        "    'B': [('A', 12), ('F', 5)],\n",
        "    'C': [('A', 3), ('E', 10), ('D', 11)],\n",
        "    'D': [('C', 11), ('E', 2)],\n",
        "    'E': [('C', 10), ('D', 2), ('G', 5)],\n",
        "    'F': [('B', 5), ('G', 16)],\n",
        "    'G': []\n",
        "}\n",
        "\n",
        "heuristics = {\n",
        "    'A': 14,\n",
        "    'B': 12,\n",
        "    'C': 11,\n",
        "    'D': 6,\n",
        "    'E': 4,\n",
        "    'F': 11,\n",
        "    'G': 0\n",
        "}\n",
        "\n",
        "\n",
        "def a_star(graph, start, goal):\n",
        "\n",
        "    open_set = PriorityQueue()\n",
        "    open_set.put((0, start))\n",
        "\n",
        "\n",
        "    g_costs = {node: float('inf') for node in graph}\n",
        "    g_costs[start] = 0\n",
        "\n",
        "\n",
        "    came_from = {}\n",
        "\n",
        "    while not open_set.empty():\n",
        "\n",
        "        _, current = open_set.get()\n",
        "\n",
        "\n",
        "        if current == goal:\n",
        "            path = []\n",
        "            while current in came_from:\n",
        "                path.append(current)\n",
        "                current = came_from[current]\n",
        "            path.append(start)\n",
        "            path.reverse()\n",
        "            return path, g_costs[goal]\n",
        "\n",
        "\n",
        "        for neighbor, cost in graph[current]:\n",
        "\n",
        "            tentative_g = g_costs[current] + cost\n",
        "\n",
        "\n",
        "            if tentative_g < g_costs[neighbor]:\n",
        "                came_from[neighbor] = current\n",
        "                g_costs[neighbor] = tentative_g\n",
        "                f = tentative_g + heuristics[neighbor]\n",
        "                open_set.put((f, neighbor))\n",
        "\n",
        "\n",
        "    return None, float('inf')\n",
        "\n",
        "\n",
        "start = 'A'\n",
        "goal = 'G'\n",
        "path, cost = a_star(graph, start, goal)\n",
        "\n",
        "if path:\n",
        "    print(\"Path found:\", path)\n",
        "    print(\"Total cost:\", cost)\n",
        "else:\n",
        "    print(\"No path found\")\n"
      ],
      "metadata": {
        "colab": {
          "base_uri": "https://localhost:8080/"
        },
        "id": "VzP32sZn2sHQ",
        "outputId": "b7edf689-cb14-4771-a1fa-d2d706384025"
      },
      "execution_count": 2,
      "outputs": [
        {
          "output_type": "stream",
          "name": "stdout",
          "text": [
            "Path found: ['A', 'C', 'E', 'G']\n",
            "Total cost: 18\n"
          ]
        }
      ]
    }
  ]
}